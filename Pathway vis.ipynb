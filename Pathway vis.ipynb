{
 "cells": [
  {
   "cell_type": "code",
   "execution_count": 1,
   "id": "017cdbed-4422-4fe5-a022-f64f4a63da3c",
   "metadata": {},
   "outputs": [
    {
     "data": {
      "application/vnd.jupyter.widget-view+json": {
       "model_id": "a1f8a1253795442691b212a7dea17599",
       "version_major": 2,
       "version_minor": 0
      },
      "text/plain": []
     },
     "metadata": {},
     "output_type": "display_data"
    },
    {
     "data": {
      "application/vnd.jupyter.widget-view+json": {
       "model_id": "bf0c02be2f4e49c388a4b49601afc706",
       "version_major": 2,
       "version_minor": 0
      },
      "text/plain": [
       "ThemeManager()"
      ]
     },
     "metadata": {},
     "output_type": "display_data"
    },
    {
     "data": {
      "application/vnd.jupyter.widget-view+json": {
       "model_id": "d777b9cedd9a4e3a934670f854e66fbc",
       "version_major": 2,
       "version_minor": 0
      },
      "text/plain": [
       "NGLWidget(gui_style='ngl')"
      ]
     },
     "metadata": {},
     "output_type": "display_data"
    }
   ],
   "source": [
    "from mdpath.src.notebook_vis import generate_ngl_script, load_precomputed_data\n",
    "import nglview as nv\n",
    "\n",
    "def load_ngl_view(file_path):\n",
    "    view = nv.show_file(file_path)\n",
    "    view.display(gui=True, style=\"ngl\")\n",
    "    return view\n",
    "\n",
    "view = load_ngl_view(\"first_frame.pdb\")\n",
    "precomputed_data = load_precomputed_data(\"precomputed_clusters_paths.json\")\n",
    "generate_ngl_script(precomputed_data, view)\n",
    "view\n"
   ]
  },
  {
   "cell_type": "code",
   "execution_count": null,
   "id": "32168547-179f-48de-9e0f-9413d908d9bb",
   "metadata": {},
   "outputs": [],
   "source": []
  }
 ],
 "metadata": {
  "kernelspec": {
   "display_name": "Python 3 (ipykernel)",
   "language": "python",
   "name": "python3"
  },
  "language_info": {
   "codemirror_mode": {
    "name": "ipython",
    "version": 3
   },
   "file_extension": ".py",
   "mimetype": "text/x-python",
   "name": "python",
   "nbconvert_exporter": "python",
   "pygments_lexer": "ipython3",
   "version": "3.9.13"
  }
 },
 "nbformat": 4,
 "nbformat_minor": 5
}
