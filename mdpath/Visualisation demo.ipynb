{
 "cells": [
  {
   "cell_type": "code",
   "execution_count": 2,
   "id": "ff59d9c4-5e1b-4e43-b106-c63ce0ed8dd6",
   "metadata": {},
   "outputs": [
    {
     "data": {
      "application/vnd.jupyter.widget-view+json": {
       "model_id": "3610e3291b684d118bd414ba63aed3e7",
       "version_major": 2,
       "version_minor": 0
      },
      "text/plain": [
       "NGLWidget(gui_style='ngl')"
      ]
     },
     "metadata": {},
     "output_type": "display_data"
    }
   ],
   "source": [
    "import nglview as nv\n",
    "import numpy as np\n",
    "from nglview import NGLWidget\n",
    "view = nv.show_file(\"C:/mdpath/first_frame.pdb\")\n",
    "view.display(gui= True, style= \"ngl\")\n",
    "\n"
   ]
  },
  {
   "cell_type": "code",
   "execution_count": null,
   "id": "383f55b6-d362-41a2-943e-b4f79ceac79b",
   "metadata": {},
   "outputs": [],
   "source": [
    "import json\n",
    "\n",
    "def precompute_path_properties(json_data, colors):\n",
    "    cluster_colors = {}\n",
    "    color_index = 0\n",
    "    path_properties = []\n",
    "\n",
    "    for clusterid, cluster in json_data.items():\n",
    "        cluster_colors[clusterid] = colors[color_index % len(colors)]\n",
    "        color_index += 1\n",
    "        coord_pair_counts = {}\n",
    "        path_number = 1\n",
    "\n",
    "        for pathway_index, pathway in enumerate(cluster):\n",
    "            for i in range(len(pathway) - 1):\n",
    "                coord1 = pathway[i][0]\n",
    "                coord2 = pathway[i + 1][0]\n",
    "                if isinstance(coord1, list) and isinstance(coord2, list) and len(coord1) == 3 and len(coord2) == 3:\n",
    "                    coord_pair = (tuple(coord1), tuple(coord2))\n",
    "                    if coord_pair not in coord_pair_counts:\n",
    "                        coord_pair_counts[coord_pair] = 0\n",
    "                    coord_pair_counts[coord_pair] += 1\n",
    "                    radius = 0.015 + 0.015 * (coord_pair_counts[coord_pair] - 1)\n",
    "                    color = cluster_colors[clusterid]\n",
    "\n",
    "                    path_properties.append({\n",
    "                        \"clusterid\": clusterid,\n",
    "                        \"pathway_index\": pathway_index,\n",
    "                        \"path_segment_index\": i,\n",
    "                        \"coord1\": coord1,\n",
    "                        \"coord2\": coord2,\n",
    "                        \"color\": color,\n",
    "                        \"radius\": radius,\n",
    "                        \"path_number\": path_number\n",
    "                    })\n",
    "\n",
    "                    path_number += 1\n",
    "                else:\n",
    "                    print(f\"Ignoring pathway {pathway} as it does not fulfill the coordinate format.\")\n",
    "    return path_properties\n",
    "\n",
    "def generate_ngl_script(path_properties):\n",
    "    for prop in path_properties:\n",
    "        shape_script = f\"\"\"\n",
    "            var shape = new NGL.Shape('custom_shape_{prop[\"clusterid\"]}_{prop[\"pathway_index\"]}_{prop[\"path_segment_index\"]}');\n",
    "            shape.addCylinder([{prop[\"coord1\"][0]}, {prop[\"coord1\"][1]}, {prop[\"coord1\"][2]}], \n",
    "                              [{prop[\"coord2\"][0]}, {prop[\"coord2\"][1]}, {prop[\"coord2\"][2]}], \n",
    "                              [{prop[\"color\"][0]}, {prop[\"color\"][1]}, {prop[\"color\"][2]}], \n",
    "                              {prop[\"radius\"]});\n",
    "            var shapeComp = this.stage.addComponentFromObject(shape);\n",
    "            shapeComp.addRepresentation('buffer');\n",
    "        \"\"\"\n",
    "        if view:\n",
    "            view._execute_js_code(shape_script)\n",
    "        else:\n",
    "            print(\"View is not defined.\")\n",
    "\n",
    "# Load JSON data\n",
    "with open(\"C:/mdpath/clusters_paths.json\", 'r') as json_file:\n",
    "    json_data = json.load(json_file)\n",
    "\n",
    "# Define colors\n",
    "colors = [\n",
    "    [1, 0, 0],  # Red\n",
    "    [0, 1, 0],  # Green\n",
    "    [0, 0, 1],  # Blue\n",
    "    [1, 1, 0],  # Yellow\n",
    "    [1, 0, 1],  # Magenta\n",
    "    [0, 1, 1],  # Cyan\n",
    "    [0.5, 0.5, 0.5],  # Gray\n",
    "    [1, 0.5, 0],  # Orange\n",
    "    [0.5, 0, 0.5],  # Purple\n",
    "    [0.5, 1, 0.5],  # Light Green\n",
    "]\n",
    "\n",
    "# Precompute path properties\n",
    "path_properties = precompute_path_properties(json_data, colors)\n",
    "\n",
    "# Generate NGL script using precomputed properties\n",
    "generate_ngl_script(path_properties)\n"
   ]
  },
  {
   "cell_type": "code",
   "execution_count": 3,
   "id": "d31a8b26-24f3-4c59-a705-3f5f570b6449",
   "metadata": {},
   "outputs": [],
   "source": [
    "import json\n",
    "\n",
    "# Load precomputed JSON data\n",
    "with open(\"C:/mdpath/precomputed_clusters_paths.json\", 'r') as json_file:\n",
    "    precomputed_data = json.load(json_file)\n",
    "\n",
    "def generate_ngl_script(precomputed_data):\n",
    "    for prop in precomputed_data:\n",
    "        shape_script = f\"\"\"\n",
    "            var shape = new NGL.Shape('custom_shape_{prop[\"clusterid\"]}_{prop[\"pathway_index\"]}_{prop[\"path_segment_index\"]}');\n",
    "            shape.addCylinder([{prop[\"coord1\"][0]}, {prop[\"coord1\"][1]}, {prop[\"coord1\"][2]}], \n",
    "                              [{prop[\"coord2\"][0]}, {prop[\"coord2\"][1]}, {prop[\"coord2\"][2]}], \n",
    "                              [{prop[\"color\"][0]}, {prop[\"color\"][1]}, {prop[\"color\"][2]}], \n",
    "                              {prop[\"radius\"]});\n",
    "            var shapeComp = this.stage.addComponentFromObject(shape);\n",
    "            shapeComp.addRepresentation('buffer');\n",
    "        \"\"\"\n",
    "        if view:\n",
    "            view._execute_js_code(shape_script)\n",
    "        else:\n",
    "            print(\"View is not defined.\")\n",
    "\n",
    "# Generate NGL script using precomputed properties\n",
    "generate_ngl_script(precomputed_data)\n"
   ]
  },
  {
   "cell_type": "code",
   "execution_count": null,
   "id": "3c0da876-d120-4461-b6b6-f4d791b99294",
   "metadata": {},
   "outputs": [],
   "source": []
  }
 ],
 "metadata": {
  "kernelspec": {
   "display_name": "Python 3 (ipykernel)",
   "language": "python",
   "name": "python3"
  },
  "language_info": {
   "codemirror_mode": {
    "name": "ipython",
    "version": 3
   },
   "file_extension": ".py",
   "mimetype": "text/x-python",
   "name": "python",
   "nbconvert_exporter": "python",
   "pygments_lexer": "ipython3",
   "version": "3.9.13"
  }
 },
 "nbformat": 4,
 "nbformat_minor": 5
}
