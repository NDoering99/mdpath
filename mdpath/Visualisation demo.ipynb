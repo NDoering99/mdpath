{
 "cells": [
  {
   "cell_type": "code",
   "execution_count": 6,
   "id": "ff59d9c4-5e1b-4e43-b106-c63ce0ed8dd6",
   "metadata": {},
   "outputs": [
    {
     "data": {
      "application/vnd.jupyter.widget-view+json": {
       "model_id": "cf95490fac5744d88060584665ca432b",
       "version_major": 2,
       "version_minor": 0
      },
      "text/plain": [
       "NGLWidget(gui_style='ngl')"
      ]
     },
     "metadata": {},
     "output_type": "display_data"
    }
   ],
   "source": [
    "import nglview as nv\n",
    "import numpy as np\n",
    "from nglview import NGLWidget\n",
    "view = nv.show_file(\"C:/mdpath/first_frame.pdb\")\n",
    "view.display(gui= True, style= \"ngl\")\n",
    "\n"
   ]
  },
  {
   "cell_type": "code",
   "execution_count": 9,
   "id": "383f55b6-d362-41a2-943e-b4f79ceac79b",
   "metadata": {},
   "outputs": [],
   "source": [
    "import json\n",
    "with open(\"C:/mdpath/clusters_paths.json\", 'r') as json_file:\n",
    "    json_data = json.load(json_file)\n",
    "\n",
    "colors = [\n",
    "    [1, 0, 0],  # Red\n",
    "    [0, 1, 0],  # Green\n",
    "    [0, 0, 1],  # Blue\n",
    "    [1, 1, 0],  # Yellow\n",
    "    [1, 0, 1],  # Magenta\n",
    "    [0, 1, 1],  # Cyan\n",
    "    [0.5, 0.5, 0.5],  # Gray\n",
    "    [1, 0.5, 0],  # Orange\n",
    "    [0.5, 0, 0.5],  # Purple\n",
    "    [0.5, 1, 0.5],  # Light Green\n",
    "]\n",
    "\n",
    "cluster_colors = {}\n",
    "color_index = 0\n",
    "\n",
    "for clusterid, cluster in json_data.items():\n",
    "    cluster_colors[clusterid] = colors[color_index % len(colors)]\n",
    "    color_index += 1\n",
    "    coord_pair_counts = {}\n",
    "    for pathway_index, pathway in enumerate(cluster):\n",
    "        for i in range(len(pathway) - 1):\n",
    "            try:\n",
    "                coord1 = pathway[i][0]\n",
    "                coord2 = pathway[i + 1][0]\n",
    "                if isinstance(coord1, list) and isinstance(coord2, list) and len(coord1) == 3 and len(coord2) == 3:\n",
    "                    coord_pair = (tuple(coord1), tuple(coord2))\n",
    "                    if coord_pair not in coord_pair_counts:\n",
    "                        coord_pair_counts[coord_pair] = 0\n",
    "                    coord_pair_counts[coord_pair] += 1\n",
    "                    radius = 0.015 + 0.015 * (coord_pair_counts[coord_pair] - 1)\n",
    "                    color = cluster_colors[clusterid]\n",
    "                    shape_script = f\"\"\"\n",
    "                        var shape = new NGL.Shape('custom_shape_{clusterid}_{pathway_index}_{i}');\n",
    "                        shape.addCylinder([{coord1[0]}, {coord1[1]}, {coord1[2]}], [{coord2[0]}, {coord2[1]}, {coord2[2]}], [{color[0]}, {color[1]}, {color[2]}], {radius});\n",
    "                        var shapeComp = this.stage.addComponentFromObject(shape);\n",
    "                        shapeComp.addRepresentation('buffer');\n",
    "                    \"\"\"\n",
    "                    if view:\n",
    "                        view._execute_js_code(shape_script)\n",
    "                    else:\n",
    "                        print(\"View is not defined.\")\n",
    "                else:\n",
    "                    print(f\"Ignoring pathway {pathway} as it does not fulfill the coordinate format.\")\n",
    "            except TypeError as e:\n",
    "                print(f\"Error processing pathway: {pathway}. Error: {e}\")\n",
    "                continue\n",
    "\n"
   ]
  },
  {
   "cell_type": "code",
   "execution_count": 25,
   "id": "26c401aa-9640-4f3b-ab63-c4c6709891aa",
   "metadata": {},
   "outputs": [
    {
     "ename": "NameError",
     "evalue": "name 'combined_view_list' is not defined",
     "output_type": "error",
     "traceback": [
      "\u001b[1;31m---------------------------------------------------------------------------\u001b[0m",
      "\u001b[1;31mNameError\u001b[0m                                 Traceback (most recent call last)",
      "\u001b[1;32m~\\AppData\\Local\\Temp\\ipykernel_25964\\315833123.py\u001b[0m in \u001b[0;36m<module>\u001b[1;34m\u001b[0m\n\u001b[0;32m      1\u001b[0m \u001b[1;31m# Define the coordinates for the start and end of the line between each pair of points in each view list\u001b[0m\u001b[1;33m\u001b[0m\u001b[1;33m\u001b[0m\u001b[0m\n\u001b[1;32m----> 2\u001b[1;33m \u001b[1;32mfor\u001b[0m \u001b[0mview_index\u001b[0m\u001b[1;33m,\u001b[0m \u001b[0mview_list\u001b[0m \u001b[1;32min\u001b[0m \u001b[0menumerate\u001b[0m\u001b[1;33m(\u001b[0m\u001b[0mcombined_view_list\u001b[0m\u001b[1;33m)\u001b[0m\u001b[1;33m:\u001b[0m\u001b[1;33m\u001b[0m\u001b[1;33m\u001b[0m\u001b[0m\n\u001b[0m\u001b[0;32m      3\u001b[0m     \u001b[1;32mfor\u001b[0m \u001b[0mi\u001b[0m \u001b[1;32min\u001b[0m \u001b[0mrange\u001b[0m\u001b[1;33m(\u001b[0m\u001b[0mlen\u001b[0m\u001b[1;33m(\u001b[0m\u001b[0mview_list\u001b[0m\u001b[1;33m)\u001b[0m \u001b[1;33m-\u001b[0m \u001b[1;36m1\u001b[0m\u001b[1;33m)\u001b[0m\u001b[1;33m:\u001b[0m\u001b[1;33m\u001b[0m\u001b[1;33m\u001b[0m\u001b[0m\n\u001b[0;32m      4\u001b[0m         \u001b[0mcoord1\u001b[0m \u001b[1;33m=\u001b[0m \u001b[0mview_list\u001b[0m\u001b[1;33m[\u001b[0m\u001b[0mi\u001b[0m\u001b[1;33m]\u001b[0m\u001b[1;33m\u001b[0m\u001b[1;33m\u001b[0m\u001b[0m\n\u001b[0;32m      5\u001b[0m         \u001b[0mcoord2\u001b[0m \u001b[1;33m=\u001b[0m \u001b[0mview_list\u001b[0m\u001b[1;33m[\u001b[0m\u001b[0mi\u001b[0m \u001b[1;33m+\u001b[0m \u001b[1;36m1\u001b[0m\u001b[1;33m]\u001b[0m\u001b[1;33m\u001b[0m\u001b[1;33m\u001b[0m\u001b[0m\n",
      "\u001b[1;31mNameError\u001b[0m: name 'combined_view_list' is not defined"
     ]
    }
   ],
   "source": []
  },
  {
   "cell_type": "code",
   "execution_count": 7,
   "id": "d31a8b26-24f3-4c59-a705-3f5f570b6449",
   "metadata": {},
   "outputs": [
    {
     "data": {
      "application/vnd.jupyter.widget-view+json": {
       "model_id": "08ddfdffbfb64bd99d68a36ebff34a45",
       "version_major": 2,
       "version_minor": 0
      },
      "text/plain": [
       "NGLWidget(n_components=2)"
      ]
     },
     "metadata": {},
     "output_type": "display_data"
    }
   ],
   "source": []
  },
  {
   "cell_type": "code",
   "execution_count": null,
   "id": "3c0da876-d120-4461-b6b6-f4d791b99294",
   "metadata": {},
   "outputs": [],
   "source": []
  }
 ],
 "metadata": {
  "kernelspec": {
   "display_name": "Python 3 (ipykernel)",
   "language": "python",
   "name": "python3"
  },
  "language_info": {
   "codemirror_mode": {
    "name": "ipython",
    "version": 3
   },
   "file_extension": ".py",
   "mimetype": "text/x-python",
   "name": "python",
   "nbconvert_exporter": "python",
   "pygments_lexer": "ipython3",
   "version": "3.9.13"
  }
 },
 "nbformat": 4,
 "nbformat_minor": 5
}
