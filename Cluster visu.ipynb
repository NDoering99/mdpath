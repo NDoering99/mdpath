{
 "cells": [
  {
   "cell_type": "code",
   "execution_count": 1,
   "id": "656b4f75-2178-4650-8251-c6c4d97cba0d",
   "metadata": {},
   "outputs": [
    {
     "data": {
      "application/vnd.jupyter.widget-view+json": {
       "model_id": "1c387054b20d41738a016643e463d274",
       "version_major": 2,
       "version_minor": 0
      },
      "text/plain": []
     },
     "metadata": {},
     "output_type": "display_data"
    },
    {
     "data": {
      "application/vnd.jupyter.widget-view+json": {
       "model_id": "390911553860489eb3b8df220bb3652c",
       "version_major": 2,
       "version_minor": 0
      },
      "text/plain": [
       "ThemeManager()"
      ]
     },
     "metadata": {},
     "output_type": "display_data"
    },
    {
     "data": {
      "application/vnd.jupyter.widget-view+json": {
       "model_id": "3589b8db514949ba94e5a8f97ea80d96",
       "version_major": 2,
       "version_minor": 0
      },
      "text/plain": [
       "NGLWidget(gui_style='ngl')"
      ]
     },
     "metadata": {},
     "output_type": "display_data"
    }
   ],
   "source": [
    "from mdpath.src.notebook_vis import generate_cluster_ngl_script, load_precomputed_data\n",
    "import nglview as nv\n",
    "\n",
    "def load_ngl_view(file_path):\n",
    "    view = nv.show_file(file_path)\n",
    "    view.display(gui=True, style=\"ngl\")\n",
    "    return view\n",
    "\n",
    "view = load_ngl_view(\"first_frame.pdb\")\n",
    "precomputed_data = load_precomputed_data(\"quick_precomputed_clusters_paths.json\")\n",
    "generate_cluster_ngl_script(precomputed_data, view)\n",
    "view"
   ]
  },
  {
   "cell_type": "code",
   "execution_count": null,
   "id": "8369fe99-4e08-4d18-852c-d77f8cac2407",
   "metadata": {},
   "outputs": [],
   "source": []
  }
 ],
 "metadata": {
  "kernelspec": {
   "display_name": "Python 3 (ipykernel)",
   "language": "python",
   "name": "python3"
  },
  "language_info": {
   "codemirror_mode": {
    "name": "ipython",
    "version": 3
   },
   "file_extension": ".py",
   "mimetype": "text/x-python",
   "name": "python",
   "nbconvert_exporter": "python",
   "pygments_lexer": "ipython3",
   "version": "3.9.13"
  }
 },
 "nbformat": 4,
 "nbformat_minor": 5
}
